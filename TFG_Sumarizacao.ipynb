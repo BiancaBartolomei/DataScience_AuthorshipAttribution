{
  "nbformat": 4,
  "nbformat_minor": 0,
  "metadata": {
    "colab": {
      "name": "TFG_Sumarizacao.ipynb",
      "provenance": [],
      "collapsed_sections": []
    },
    "kernelspec": {
      "name": "python3",
      "display_name": "Python 3"
    },
    "accelerator": "GPU"
  },
  "cells": [
    {
      "cell_type": "code",
      "metadata": {
        "id": "EHdJjcp1AH4v",
        "outputId": "22c25585-e1e6-4443-ef06-6e015e733b83",
        "colab": {
          "base_uri": "https://localhost:8080/"
        }
      },
      "source": [
        "from google.colab import drive\n",
        "drive.mount('/content/drive')"
      ],
      "execution_count": 1,
      "outputs": [
        {
          "output_type": "stream",
          "name": "stdout",
          "text": [
            "Mounted at /content/drive\n"
          ]
        }
      ]
    },
    {
      "cell_type": "code",
      "metadata": {
        "id": "WeptlGXN2MnF",
        "outputId": "e1ff01a3-350b-49fe-ce46-b58ac63c0a14",
        "colab": {
          "base_uri": "https://localhost:8080/"
        }
      },
      "source": [
        "import numpy as np\n",
        "import pandas as pd\n",
        "import nltk\n",
        "from nltk.tokenize import sent_tokenize\n",
        "nltk.download('punkt') # one time execution\n",
        "import re"
      ],
      "execution_count": 2,
      "outputs": [
        {
          "output_type": "stream",
          "name": "stdout",
          "text": [
            "[nltk_data] Downloading package punkt to /root/nltk_data...\n",
            "[nltk_data]   Unzipping tokenizers/punkt.zip.\n"
          ]
        }
      ]
    },
    {
      "cell_type": "code",
      "metadata": {
        "id": "z_aSx78ZGpcN",
        "outputId": "31d27ba5-c8b0-4dfb-dfe8-1090ba6fdf12",
        "colab": {
          "base_uri": "https://localhost:8080/"
        }
      },
      "source": [
        "# Upload the CSV file\n",
        "import re\n",
        "import os\n",
        "import pandas as pd\n",
        "\n",
        "def read_folder(folder_path, texts_list):\n",
        "  all_files = os.listdir(folder_path)\n",
        "\n",
        "  for file_name in all_files:\n",
        "    file = open(folder_path+file_name, 'r+', encoding = \"ISO-8859-1\")\n",
        "    text_content = file.read()\n",
        "    texts_list.append((text_content, file_name))\n",
        "    file.close()\n",
        "\n",
        "   \n",
        "folder_path = '/content/drive/My Drive/Graduação/TFG/TFG/Corpus/'\n",
        "texts_list = []\n",
        "read_folder(folder_path, texts_list)\n",
        "\n",
        "df = pd.DataFrame(texts_list, columns = ['text', 'file_name']) \n",
        "print(df['file_name'])     "
      ],
      "execution_count": 3,
      "outputs": [
        {
          "output_type": "stream",
          "name": "stdout",
          "text": [
            "0                                         Ubirajara.txt\n",
            "1                                              Diva.txt\n",
            "2                                    Papeis Avulsos.txt\n",
            "3                                 A Condessa Vesper.txt\n",
            "4     Historias e Tradicoes da Provincia de Minas Ge...\n",
            "                            ...                        \n",
            "76                                Ao Correr da Pena.txt\n",
            "77                                          Senhora.txt\n",
            "78                              Girandola de amores.txt\n",
            "79                                     O Moco Loiro.txt\n",
            "80                                       Encarnacao.txt\n",
            "Name: file_name, Length: 81, dtype: object\n"
          ]
        }
      ]
    },
    {
      "cell_type": "code",
      "metadata": {
        "id": "a5Skjq6DJUtQ",
        "outputId": "ef810046-7e2e-4db4-d5b4-78dcc99ec4e5",
        "colab": {
          "base_uri": "https://localhost:8080/"
        }
      },
      "source": [
        "# download pretrained GloVe word embeddings\n",
        "! wget http://nlp.stanford.edu/data/glove.6B.zip"
      ],
      "execution_count": 4,
      "outputs": [
        {
          "output_type": "stream",
          "name": "stdout",
          "text": [
            "--2022-03-20 14:14:32--  http://nlp.stanford.edu/data/glove.6B.zip\n",
            "Resolving nlp.stanford.edu (nlp.stanford.edu)... 171.64.67.140\n",
            "Connecting to nlp.stanford.edu (nlp.stanford.edu)|171.64.67.140|:80... connected.\n",
            "HTTP request sent, awaiting response... 302 Found\n",
            "Location: https://nlp.stanford.edu/data/glove.6B.zip [following]\n",
            "--2022-03-20 14:14:32--  https://nlp.stanford.edu/data/glove.6B.zip\n",
            "Connecting to nlp.stanford.edu (nlp.stanford.edu)|171.64.67.140|:443... connected.\n",
            "HTTP request sent, awaiting response... 301 Moved Permanently\n",
            "Location: http://downloads.cs.stanford.edu/nlp/data/glove.6B.zip [following]\n",
            "--2022-03-20 14:14:32--  http://downloads.cs.stanford.edu/nlp/data/glove.6B.zip\n",
            "Resolving downloads.cs.stanford.edu (downloads.cs.stanford.edu)... 171.64.64.22\n",
            "Connecting to downloads.cs.stanford.edu (downloads.cs.stanford.edu)|171.64.64.22|:80... connected.\n",
            "HTTP request sent, awaiting response... 200 OK\n",
            "Length: 862182613 (822M) [application/zip]\n",
            "Saving to: ‘glove.6B.zip’\n",
            "\n",
            "glove.6B.zip        100%[===================>] 822.24M  5.21MB/s    in 2m 39s  \n",
            "\n",
            "2022-03-20 14:17:11 (5.16 MB/s) - ‘glove.6B.zip’ saved [862182613/862182613]\n",
            "\n"
          ]
        }
      ]
    },
    {
      "cell_type": "code",
      "metadata": {
        "id": "K_GXHzwDJq-2",
        "outputId": "9d84e967-32d4-414f-ddb6-8136966783cc",
        "colab": {
          "base_uri": "https://localhost:8080/"
        }
      },
      "source": [
        "! unzip glove*.zip"
      ],
      "execution_count": 5,
      "outputs": [
        {
          "output_type": "stream",
          "name": "stdout",
          "text": [
            "Archive:  glove.6B.zip\n",
            "  inflating: glove.6B.50d.txt        \n",
            "  inflating: glove.6B.100d.txt       \n",
            "  inflating: glove.6B.200d.txt       \n",
            "  inflating: glove.6B.300d.txt       \n"
          ]
        }
      ]
    },
    {
      "cell_type": "code",
      "metadata": {
        "id": "hm6pa5Af4qbE",
        "outputId": "48fb9fc8-e309-48db-c996-64db1eb26e6b",
        "colab": {
          "base_uri": "https://localhost:8080/",
          "height": 206
        }
      },
      "source": [
        "df.head()"
      ],
      "execution_count": 6,
      "outputs": [
        {
          "output_type": "execute_result",
          "data": {
            "text/plain": [
              "                                                text  \\\n",
              "0                                       \\n\\nUbira...   \n",
              "1  \\n\\n\\n           DIVA\\n\\n\\n\\n           A\\n   ...   \n",
              "2  Papéis Avulsos\\n\\nADVERTÊNCIA\\nEste título de ...   \n",
              "3  A CONDESSA VÉSPER\\n\\nAS MEMÓRIAS DE UM CONDENA...   \n",
              "4               Histórias e tradições da Provínci...   \n",
              "\n",
              "                                           file_name  \n",
              "0                                      Ubirajara.txt  \n",
              "1                                           Diva.txt  \n",
              "2                                 Papeis Avulsos.txt  \n",
              "3                              A Condessa Vesper.txt  \n",
              "4  Historias e Tradicoes da Provincia de Minas Ge...  "
            ],
            "text/html": [
              "\n",
              "  <div id=\"df-d668f06e-6c33-448f-a18b-f60d9aecc3c9\">\n",
              "    <div class=\"colab-df-container\">\n",
              "      <div>\n",
              "<style scoped>\n",
              "    .dataframe tbody tr th:only-of-type {\n",
              "        vertical-align: middle;\n",
              "    }\n",
              "\n",
              "    .dataframe tbody tr th {\n",
              "        vertical-align: top;\n",
              "    }\n",
              "\n",
              "    .dataframe thead th {\n",
              "        text-align: right;\n",
              "    }\n",
              "</style>\n",
              "<table border=\"1\" class=\"dataframe\">\n",
              "  <thead>\n",
              "    <tr style=\"text-align: right;\">\n",
              "      <th></th>\n",
              "      <th>text</th>\n",
              "      <th>file_name</th>\n",
              "    </tr>\n",
              "  </thead>\n",
              "  <tbody>\n",
              "    <tr>\n",
              "      <th>0</th>\n",
              "      <td>\\n\\nUbira...</td>\n",
              "      <td>Ubirajara.txt</td>\n",
              "    </tr>\n",
              "    <tr>\n",
              "      <th>1</th>\n",
              "      <td>\\n\\n\\n           DIVA\\n\\n\\n\\n           A\\n   ...</td>\n",
              "      <td>Diva.txt</td>\n",
              "    </tr>\n",
              "    <tr>\n",
              "      <th>2</th>\n",
              "      <td>Papéis Avulsos\\n\\nADVERTÊNCIA\\nEste título de ...</td>\n",
              "      <td>Papeis Avulsos.txt</td>\n",
              "    </tr>\n",
              "    <tr>\n",
              "      <th>3</th>\n",
              "      <td>A CONDESSA VÉSPER\\n\\nAS MEMÓRIAS DE UM CONDENA...</td>\n",
              "      <td>A Condessa Vesper.txt</td>\n",
              "    </tr>\n",
              "    <tr>\n",
              "      <th>4</th>\n",
              "      <td>Histórias e tradições da Provínci...</td>\n",
              "      <td>Historias e Tradicoes da Provincia de Minas Ge...</td>\n",
              "    </tr>\n",
              "  </tbody>\n",
              "</table>\n",
              "</div>\n",
              "      <button class=\"colab-df-convert\" onclick=\"convertToInteractive('df-d668f06e-6c33-448f-a18b-f60d9aecc3c9')\"\n",
              "              title=\"Convert this dataframe to an interactive table.\"\n",
              "              style=\"display:none;\">\n",
              "        \n",
              "  <svg xmlns=\"http://www.w3.org/2000/svg\" height=\"24px\"viewBox=\"0 0 24 24\"\n",
              "       width=\"24px\">\n",
              "    <path d=\"M0 0h24v24H0V0z\" fill=\"none\"/>\n",
              "    <path d=\"M18.56 5.44l.94 2.06.94-2.06 2.06-.94-2.06-.94-.94-2.06-.94 2.06-2.06.94zm-11 1L8.5 8.5l.94-2.06 2.06-.94-2.06-.94L8.5 2.5l-.94 2.06-2.06.94zm10 10l.94 2.06.94-2.06 2.06-.94-2.06-.94-.94-2.06-.94 2.06-2.06.94z\"/><path d=\"M17.41 7.96l-1.37-1.37c-.4-.4-.92-.59-1.43-.59-.52 0-1.04.2-1.43.59L10.3 9.45l-7.72 7.72c-.78.78-.78 2.05 0 2.83L4 21.41c.39.39.9.59 1.41.59.51 0 1.02-.2 1.41-.59l7.78-7.78 2.81-2.81c.8-.78.8-2.07 0-2.86zM5.41 20L4 18.59l7.72-7.72 1.47 1.35L5.41 20z\"/>\n",
              "  </svg>\n",
              "      </button>\n",
              "      \n",
              "  <style>\n",
              "    .colab-df-container {\n",
              "      display:flex;\n",
              "      flex-wrap:wrap;\n",
              "      gap: 12px;\n",
              "    }\n",
              "\n",
              "    .colab-df-convert {\n",
              "      background-color: #E8F0FE;\n",
              "      border: none;\n",
              "      border-radius: 50%;\n",
              "      cursor: pointer;\n",
              "      display: none;\n",
              "      fill: #1967D2;\n",
              "      height: 32px;\n",
              "      padding: 0 0 0 0;\n",
              "      width: 32px;\n",
              "    }\n",
              "\n",
              "    .colab-df-convert:hover {\n",
              "      background-color: #E2EBFA;\n",
              "      box-shadow: 0px 1px 2px rgba(60, 64, 67, 0.3), 0px 1px 3px 1px rgba(60, 64, 67, 0.15);\n",
              "      fill: #174EA6;\n",
              "    }\n",
              "\n",
              "    [theme=dark] .colab-df-convert {\n",
              "      background-color: #3B4455;\n",
              "      fill: #D2E3FC;\n",
              "    }\n",
              "\n",
              "    [theme=dark] .colab-df-convert:hover {\n",
              "      background-color: #434B5C;\n",
              "      box-shadow: 0px 1px 3px 1px rgba(0, 0, 0, 0.15);\n",
              "      filter: drop-shadow(0px 1px 2px rgba(0, 0, 0, 0.3));\n",
              "      fill: #FFFFFF;\n",
              "    }\n",
              "  </style>\n",
              "\n",
              "      <script>\n",
              "        const buttonEl =\n",
              "          document.querySelector('#df-d668f06e-6c33-448f-a18b-f60d9aecc3c9 button.colab-df-convert');\n",
              "        buttonEl.style.display =\n",
              "          google.colab.kernel.accessAllowed ? 'block' : 'none';\n",
              "\n",
              "        async function convertToInteractive(key) {\n",
              "          const element = document.querySelector('#df-d668f06e-6c33-448f-a18b-f60d9aecc3c9');\n",
              "          const dataTable =\n",
              "            await google.colab.kernel.invokeFunction('convertToInteractive',\n",
              "                                                     [key], {});\n",
              "          if (!dataTable) return;\n",
              "\n",
              "          const docLinkHtml = 'Like what you see? Visit the ' +\n",
              "            '<a target=\"_blank\" href=https://colab.research.google.com/notebooks/data_table.ipynb>data table notebook</a>'\n",
              "            + ' to learn more about interactive tables.';\n",
              "          element.innerHTML = '';\n",
              "          dataTable['output_type'] = 'display_data';\n",
              "          await google.colab.output.renderOutput(dataTable, element);\n",
              "          const docLink = document.createElement('div');\n",
              "          docLink.innerHTML = docLinkHtml;\n",
              "          element.appendChild(docLink);\n",
              "        }\n",
              "      </script>\n",
              "    </div>\n",
              "  </div>\n",
              "  "
            ]
          },
          "metadata": {},
          "execution_count": 6
        }
      ]
    },
    {
      "cell_type": "code",
      "metadata": {
        "id": "eZVoc3R6G9a8"
      },
      "source": [
        "for text_df, file_name in zip(df['text'], df['file_name']):\n",
        "  \n",
        "  # split the the text in the articles into sentences\n",
        "  sentences = []\n",
        "  \n",
        "  for s in [text_df]:\n",
        "    sentences.append(sent_tokenize(s))  \n",
        "\n",
        "  # flatten the list\n",
        "  sentences = [y for x in sentences for y in x]\n",
        "  sentences = sentences[:3000]\n",
        "\n",
        "  # remove punctuations, numbers and special characters\n",
        "  clean_sentences = pd.Series(sentences).str.replace(\"[^a-zA-Z]\", \" \")\n",
        "\n",
        "  # make alphabets lowercase\n",
        "  clean_sentences = [s.lower() for s in clean_sentences]\n",
        "\n",
        "  nltk.download('stopwords')# one time executio\n",
        "\n",
        "  from nltk.corpus import stopwords\n",
        "  stop_words = stopwords.words('portuguese')\n",
        "\n",
        "  # function to remove stopwords\n",
        "  def remove_stopwords(sen):\n",
        "    sen_new = \" \".join([i for i in sen if i not in stop_words])\n",
        "    return sen_new\n",
        "\n",
        "\n",
        "  # remove stopwords from the sentences\n",
        "  clean_sentences = [remove_stopwords(r.split()) for r in clean_sentences]\n",
        "\n",
        "  # Extract word vectors\n",
        "  word_embeddings = {}\n",
        "  f = open('glove.6B.100d.txt', encoding='utf-8')\n",
        "  for line in f:\n",
        "      values = line.split()\n",
        "      word = values[0]\n",
        "      coefs = np.asarray(values[1:], dtype='float32')\n",
        "      word_embeddings[word] = coefs\n",
        "  f.close()\n",
        "\n",
        "  sentence_vectors = []\n",
        "  for i in clean_sentences:\n",
        "    if len(i) != 0:\n",
        "      v = sum([word_embeddings.get(w, np.zeros((100,))) for w in i.split()])/(len(i.split())+0.001)\n",
        "    else:\n",
        "      v = np.zeros((100,))\n",
        "    sentence_vectors.append(v)\n",
        "\n",
        "  len(sentence_vectors)\n",
        "\n",
        "  # similarity matrix\n",
        "  sim_mat = np.zeros([len(sentences), len(sentences)])\n",
        "\n",
        "  from sklearn.metrics.pairwise import cosine_similarity\n",
        "\n",
        "  for i in range(len(sentences)):\n",
        "    for j in range(len(sentences)):\n",
        "      if i != j:\n",
        "        sim_mat[i][j] = cosine_similarity(sentence_vectors[i].reshape(1,100), sentence_vectors[j].reshape(1,100))[0,0]\n",
        "\n",
        "  import networkx as nx\n",
        "\n",
        "  nx_graph = nx.from_numpy_array(sim_mat)\n",
        "  scores = nx.pagerank(nx_graph)\n",
        "\n",
        "  ranked_sentences = sorted(((scores[i],s) for i,s in enumerate(sentences)), reverse=True)\n",
        "\n",
        "  print(ranked_sentences)\n",
        "\n",
        "  # Specify number of sentences to form the summary\n",
        "  sn = 50\n",
        "  folder_path = '/content/drive/My Drive/Graduação/TFG/textos_resumidos10/'\n",
        "  file = open(folder_path+file_name, 'w+', encoding = \"ISO-8859-1\")\n",
        "  # Generate summary\n",
        "  for i in range(sn):\n",
        "    if i < 40:\n",
        "      print('')\n",
        "    else:\n",
        "      print(ranked_sentences[i][1])\n",
        "      file.write(ranked_sentences[i][1])\n",
        "  \n",
        "  file.close()\n",
        "  "
      ],
      "execution_count": null,
      "outputs": []
    },
    {
      "cell_type": "markdown",
      "metadata": {
        "id": "zIkZr_lds-kr"
      },
      "source": [
        "Find the original article here https://www.analyticsvidhya.com/blog/2018/11/introduction-text-summarization-textrank-python/"
      ]
    }
  ]
}