{
  "nbformat": 4,
  "nbformat_minor": 0,
  "metadata": {
    "colab": {
      "name": "TFG_NB_LEXICO.ipynb",
      "provenance": []
    },
    "kernelspec": {
      "name": "python3",
      "display_name": "Python 3"
    }
  },
  "cells": [
    {
      "cell_type": "code",
      "metadata": {
        "id": "4JWrfq8Z128-",
        "outputId": "52259ab7-304f-4e97-9a5c-6ead3bbba6d4",
        "colab": {
          "base_uri": "https://localhost:8080/",
          "height": 134
        }
      },
      "source": [
        "import pandas as pd\n",
        "import numpy as np\n",
        "import re\n",
        "import nltk\n",
        "import matplotlib.pyplot as plt\n",
        "import re\n",
        "import os\n",
        "import pandas as pd\n",
        "import glob\n",
        "import os\n",
        "import librosa\n",
        "import librosa.display\n",
        "import numpy as np\n",
        "from tensorflow.contrib.keras.api.keras.utils import to_categorical\n",
        "import pandas as pd\n",
        "import matplotlib.pyplot as plt\n",
        "from matplotlib.pyplot import specgram\n",
        "import collections\n",
        "import librosa\n",
        "from sklearn.naive_bayes import MultinomialNB, GaussianNB, ComplementNB, BernoulliNB\n",
        "from sklearn.metrics import accuracy_score\n",
        "from sklearn.model_selection import cross_val_score\n",
        "from sklearn.model_selection import learning_curve, validation_curve\n",
        "from sklearn.model_selection import train_test_split\n",
        "from sklearn.metrics import confusion_matrix\n",
        "from sklearn.svm import LinearSVC, SVC, NuSVC\n",
        "import io\n",
        "import time\n",
        "from imblearn.over_sampling import RandomOverSampler, ADASYN, BorderlineSMOTE, SMOTE\n",
        "from sklearn.ensemble import RandomForestClassifier\n",
        "from sklearn.naive_bayes import BernoulliNB, ComplementNB, MultinomialNB, GaussianNB\n",
        "from sklearn.svm import SVC, LinearSVC\n"
      ],
      "execution_count": null,
      "outputs": [
        {
          "output_type": "display_data",
          "data": {
            "text/html": [
              "<p style=\"color: red;\">\n",
              "The default version of TensorFlow in Colab will soon switch to TensorFlow 2.x.<br>\n",
              "We recommend you <a href=\"https://www.tensorflow.org/guide/migrate\" target=\"_blank\">upgrade</a> now \n",
              "or ensure your notebook will continue to use TensorFlow 1.x via the <code>%tensorflow_version 1.x</code> magic:\n",
              "<a href=\"https://colab.research.google.com/notebooks/tensorflow_version.ipynb\" target=\"_blank\">more info</a>.</p>\n"
            ],
            "text/plain": [
              "<IPython.core.display.HTML object>"
            ]
          },
          "metadata": {
            "tags": []
          }
        },
        {
          "output_type": "stream",
          "text": [
            "/usr/local/lib/python3.6/dist-packages/sklearn/externals/six.py:31: DeprecationWarning: The module is deprecated in version 0.21 and will be removed in version 0.23 since we've dropped support for Python 2.7. Please rely on the official version of six (https://pypi.org/project/six/).\n",
            "  \"(https://pypi.org/project/six/).\", DeprecationWarning)\n"
          ],
          "name": "stderr"
        }
      ]
    },
    {
      "cell_type": "code",
      "metadata": {
        "id": "7M8QvNGl2I7r"
      },
      "source": [
        "# CSV LEXICO\n",
        "csv_data = 'entrada_lexica.csv'\n",
        "\n",
        "csv_labels = 'classes_tfg2.csv'\n",
        "\n",
        "classes_df = pd.read_csv(csv_labels)\n",
        "data_df = pd.read_csv(csv_data)\n",
        "\n",
        "corpus = data_df.join(classes_df.set_index('file_name'), on='file_name')\n",
        "\n",
        "# COLOCAR NA MÃO UM TECHO\n",
        "# teste = pd.read_csv('teste.csv')\n",
        "\n",
        "#VERIFICAR O JOIN\n",
        "corpus.to_csv('final.csv')"
      ],
      "execution_count": null,
      "outputs": []
    },
    {
      "cell_type": "code",
      "metadata": {
        "id": "g4huws9x23wy",
        "outputId": "f8ea6a91-b492-493f-b430-5396eab6f0d0",
        "colab": {
          "base_uri": "https://localhost:8080/",
          "height": 88
        }
      },
      "source": [
        "features = corpus.iloc[:, :15]\n",
        "classes = corpus['Autores'].values\n",
        "features = features.drop(columns=['file_name'])\n",
        "features = features.values\n",
        "\n",
        "\n",
        "new_y_list = []\n",
        "for author in classes:\n",
        "  if author == 'Machado de Assis':\n",
        "    new_y_list.append([0])\n",
        "  elif author == 'Jose de Alencar':\n",
        "    new_y_list.append([1])\n",
        "  elif author == 'Aluisio Azevedo':\n",
        "    new_y_list.append([2])\n",
        "  elif author == 'Joaquim Manuel de Macedo':\n",
        "    new_y_list.append([3])\n",
        "  elif author == 'Manuel Antonio de Almeida':\n",
        "    new_y_list.append([4])\n",
        "  elif author == 'Adolfo Caminha':\n",
        "    new_y_list.append([5])\n",
        "  elif author == 'Bernardo Guimaraes':\n",
        "    new_y_list.append([6])\n",
        "  else: \n",
        "    print(author)\n",
        "    \n",
        "new_y = np.array(new_y_list)\n",
        "\n",
        "\n",
        "ros = RandomOverSampler()\n",
        "x_new, y_new = ros.fit_resample(features, new_y)\n",
        "\n",
        "unique, counts = np.unique(y_new, return_counts=True)\n",
        "print(dict(zip(unique, counts)))\n",
        "\n",
        "    \n",
        "x_train, x_test, y_train, y_test = train_test_split(x_new, y_new, test_size=0.20)\n",
        "\n",
        "x_train = x_train.astype('float32')\n",
        "x_test = x_test.astype('float32')"
      ],
      "execution_count": null,
      "outputs": [
        {
          "output_type": "stream",
          "text": [
            "{0: 23, 1: 23, 2: 23, 3: 23, 4: 23, 5: 23, 6: 23}\n"
          ],
          "name": "stdout"
        },
        {
          "output_type": "stream",
          "text": [
            "/usr/local/lib/python3.6/dist-packages/sklearn/utils/validation.py:724: DataConversionWarning: A column-vector y was passed when a 1d array was expected. Please change the shape of y to (n_samples, ), for example using ravel().\n",
            "  y = column_or_1d(y, warn=True)\n"
          ],
          "name": "stderr"
        }
      ]
    },
    {
      "cell_type": "code",
      "metadata": {
        "id": "9Koe6kFg3B2B",
        "outputId": "0be6da56-0d44-4746-8c41-3f580f5499a8",
        "colab": {
          "base_uri": "https://localhost:8080/",
          "height": 1000
        }
      },
      "source": [
        "def plot_confusion_matrix(cm, title, cmap=plt.cm.Blues, a=1):\n",
        "    labels = [0, 1, 2, 3, 4, 5, 6, 7, 8, 9]\n",
        "\n",
        "    plt.imshow(cm, interpolation='nearest', cmap=cmap)\n",
        "    plt.title(title)\n",
        "    plt.colorbar()\n",
        "    tick_marks = np.arange(7)\n",
        "    plt.xticks(tick_marks, labels, rotation=45)\n",
        "    plt.yticks(tick_marks, labels)\n",
        "    plt.tight_layout()\n",
        "    plt.ylabel('Rótulo real')\n",
        "    plt.xlabel('Rótulo da predição')\n",
        "    if a==1:\n",
        "        plt.savefig(title+'matrixconf')\n",
        "    else:\n",
        "        plt.savefig(title+'matrixconfnorm')\n",
        "\n",
        "\n",
        "def plt_confussion_matrix(y_test, y_pred, title):\n",
        "    cm = confusion_matrix(y_test, y_pred)\n",
        "    np.set_printoptions(precision=2)\n",
        "    print('Matriz de confusão, sem normalização')\n",
        "    print(cm)\n",
        "    plt.figure(figsize=(5, 5))\n",
        "    plot_confusion_matrix(cm, title)\n",
        "\n",
        "    # Normalize the confusion matrix by row (i.e by the number of samples\n",
        "    # in each class)\n",
        "    cm_normalized = cm.astype('float') / cm.sum(axis=1)[:, np.newaxis]\n",
        "    print('Matriz de confusão normalizada')\n",
        "    print(cm_normalized)\n",
        "    plt.figure(figsize=(5, 5))\n",
        "    plot_confusion_matrix(cm_normalized, title + ' normalizada', a=2)\n",
        "    plt.show()\n",
        "    \n",
        "model = GaussianNB(var_smoothing=0.02) \n",
        "\n",
        "model.fit(x_train, y_train)\n",
        "y_pred = model.predict(x_test)\n",
        "\n",
        "\n",
        "plt_confussion_matrix(y_test, y_pred, '')\n",
        "\n",
        "\n",
        "start_1 = time.time()\n",
        "scores = cross_val_score(model, x_new, y_new, cv=5)\n",
        "\n",
        "end_1 = time.time()\n",
        "print(\"Time: \" + str((end_1 - start_1)))\n",
        "\n",
        "print(\"Random Forest cross-validation: Accuracy: %0.2f (+/- %0.2f)\" % (scores.mean(), scores.std() * 2))"
      ],
      "execution_count": null,
      "outputs": [
        {
          "output_type": "stream",
          "text": [
            "Matriz de confusão, sem normalização\n",
            "[[2 3 0 0 0 0 0]\n",
            " [1 3 2 0 1 0 0]\n",
            " [1 0 2 0 0 0 0]\n",
            " [0 2 0 4 0 0 1]\n",
            " [0 0 1 0 2 0 0]\n",
            " [0 0 0 0 0 3 0]\n",
            " [2 0 0 1 0 0 2]]\n",
            "Matriz de confusão normalizada\n",
            "[[0.4  0.6  0.   0.   0.   0.   0.  ]\n",
            " [0.14 0.43 0.29 0.   0.14 0.   0.  ]\n",
            " [0.33 0.   0.67 0.   0.   0.   0.  ]\n",
            " [0.   0.29 0.   0.57 0.   0.   0.14]\n",
            " [0.   0.   0.33 0.   0.67 0.   0.  ]\n",
            " [0.   0.   0.   0.   0.   1.   0.  ]\n",
            " [0.4  0.   0.   0.2  0.   0.   0.4 ]]\n"
          ],
          "name": "stdout"
        },
        {
          "output_type": "display_data",
          "data": {
            "image/png": "[encoded data removed]",
            "text/plain": [
              "<Figure size 360x360 with 2 Axes>"
            ]
          },
          "metadata": {
            "tags": []
          }
        },
        {
          "output_type": "display_data",
          "data": {
            "image/png": "[encoded data removed]",
            "text/plain": [
              "<Figure size 360x360 with 2 Axes>"
            ]
          },
          "metadata": {
            "tags": []
          }
        },
        {
          "output_type": "stream",
          "text": [
            "Time: 0.02358245849609375\n",
            "Random Forest cross-validation: Accuracy: 0.72 (+/- 0.14)\n"
          ],
          "name": "stdout"
        }
      ]
    },
    {
      "cell_type": "code",
      "metadata": {
        "id": "519LDlri3LA5"
      },
      "source": [
        "def plot_validation_curve(train_scores, test_scores, param_range, title, label):\n",
        "    train_scores_mean = np.mean(train_scores, axis=1)\n",
        "    train_scores_std = np.std(train_scores, axis=1)\n",
        "    test_scores_mean = np.mean(test_scores, axis=1)\n",
        "    test_scores_std = np.std(test_scores, axis=1)\n",
        "\n",
        "    plt.title(title)\n",
        "    plt.xlabel(label)\n",
        "    plt.ylabel(\"Pontuação\")\n",
        "    plt.ylim(0.0, 1.1)\n",
        "\n",
        "    lw = 2\n",
        "\n",
        "    plt.plot(param_range, train_scores_mean, label=\"Pontuação do treinamento\",\n",
        "                 color=\"r\", lw=lw)\n",
        "    plt.fill_between(param_range, train_scores_mean - train_scores_std,\n",
        "                     train_scores_mean + train_scores_std, alpha=0.2,\n",
        "                     color=\"r\", lw=lw)\n",
        "\n",
        "    plt.plot(param_range, test_scores_mean, label=\"Pontuação da validação cruzada\",\n",
        "                 color=\"navy\", lw=lw)\n",
        "    plt.fill_between(param_range, test_scores_mean - test_scores_std,\n",
        "                     test_scores_mean + test_scores_std, alpha=0.2,\n",
        "                     color=\"navy\", lw=lw)\n",
        "\n",
        "\n",
        "    plt.legend(loc=\"best\")\n",
        "    plt.savefig(title)\n",
        "    plt.show()\n",
        "    \n",
        "    \n",
        "def create_validation_curve(estimator, X, y, title, label, p_name, p_range):\n",
        "    train_scores, test_scores = validation_curve(\n",
        "        estimator,\n",
        "        X,\n",
        "        y,\n",
        "        param_name=p_name,\n",
        "        param_range=p_range,\n",
        "        cv=5,\n",
        "        scoring=\"accuracy\",\n",
        "        n_jobs=-1\n",
        "    )\n",
        "    plot_validation_curve(train_scores, test_scores, p_range, title, label)\n",
        "    \n",
        "\n"
      ],
      "execution_count": null,
      "outputs": []
    },
    {
      "cell_type": "code",
      "metadata": {
        "id": "L4q14HwB3QjJ",
        "outputId": "4d737e68-dadd-459e-caf7-cc667cccff48",
        "colab": {
          "base_uri": "https://localhost:8080/",
          "height": 296
        }
      },
      "source": [
        "create_validation_curve(model, x_new, y_new, \"var_smoothing\", \"var_smoothing\", \"var_smoothing\", np.arange(0.01, 0.09, 0.01))"
      ],
      "execution_count": null,
      "outputs": [
        {
          "output_type": "display_data",
          "data": {
            "image/png": "[encoded data removed]",
            "text/plain": [
              "<Figure size 432x288 with 1 Axes>"
            ]
          },
          "metadata": {
            "tags": []
          }
        }
      ]
    }
  ]
}